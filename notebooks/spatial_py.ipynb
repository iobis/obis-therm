{
 "cells": [
  {
   "cell_type": "markdown",
   "metadata": {},
   "source": [
    "# Spatial operations - Python\n",
    "\n",
    "## GeoParquet format\n",
    "\n",
    "The `obistherm` dataset is saved on GeoParquet format. Thus, it contains a geometry column in WKB format. On Python, you can directly read the dataset using the library `geopandas`.\n",
    "\n",
    "_Note: to see how to download the data, check [this other notebook.](https://github.com/iobis/obis-therm/blob/main/notebooks/data_access_py.ipynb)_"
   ]
  },
  {
   "cell_type": "code",
   "execution_count": null,
   "metadata": {},
   "outputs": [],
   "source": [
    "import geopandas\n",
    "\n",
    "local_folder = \"aggregated\"\n",
    "filters = [(\"species\", \"==\", \"Leptuca thayeri\")]\n",
    "gdf = geopandas.read_parquet(local_folder, filters=filters)[[\"species\", \"coraltempSST\", \"geometry\"]]\n",
    "gdf"
   ]
  },
  {
   "cell_type": "markdown",
   "metadata": {},
   "source": [
    "Note that, differently from the other operations, this time we did the filter directly on the `read_parquet` function from `geopandas`.\n",
    "\n",
    "We can do very quick spatial operations with this `geopandas` object. For example, crop to a certain area and plot."
   ]
  },
  {
   "cell_type": "code",
   "execution_count": null,
   "metadata": {},
   "outputs": [],
   "source": [
    "import matplotlib.pyplot as plt\n",
    "import cartopy.crs as ccrs\n",
    "import cartopy.feature as cfeature\n",
    "\n",
    "gdf_cropped = gdf.cx[-70:-30, -25:29]\n",
    "\n",
    "fig, ax = plt.subplots(figsize=(10, 8), subplot_kw={'projection': ccrs.PlateCarree()})\n",
    "\n",
    "ax.add_feature(cfeature.LAND, facecolor='gray')\n",
    "\n",
    "gdf_cropped.plot(ax=ax, column=\"coraltempSST\", cmap=\"coolwarm\", legend=True, markersize=24, alpha=0.9, transform=ccrs.PlateCarree())\n",
    "\n",
    "ax.set_xlim(-50, -30)\n",
    "ax.set_ylim(-25, 0)\n",
    "\n",
    "ax.set_title(\"Spatial Distribution of Leptuca thayeri with CoralTemp SST\", fontsize=14)\n",
    "\n",
    "plt.show()"
   ]
  },
  {
   "cell_type": "markdown",
   "metadata": {},
   "source": [
    "## H3 grid system\n",
    "\n",
    "The `obistherm` dataset also comes with pre-computed H3 index at resolution 7. The H3 grid system is a hierarchical, hexagon-based spatial indexing system developed by Uber that divides the globe into hexagonal cells at multiple resolutions, allowing for efficient spatial analysis and indexing. It enables seamless geospatial operations like clustering, nearest-neighbor queries, and region aggregation with consistent cell areas and shapes across the globe. You can learn more about it [here](https://h3geo.org/).\n",
    "\n",
    "You can do filtering and aggregation efficiently using this system. For example, let's consider a certain area in Europe:"
   ]
  },
  {
   "cell_type": "code",
   "execution_count": null,
   "metadata": {},
   "outputs": [],
   "source": [
    "import h3\n",
    "\n",
    "polygon_wkt = \"POLYGON ((2.548828 53.448807, -0.109863 51.57707, 2.416992 50.764259, 7.646484 53.225768, 2.548828 53.448807))\"\n",
    "europe_area = geopandas.GeoSeries.from_wkt([polygon_wkt], crs=\"EPSG:4326\")\n",
    "\n",
    "geojson_polygon = europe_area.geometry[0].__geo_interface__\n",
    "\n",
    "resolution = 7\n",
    "europe_h3 = h3.polyfill(geojson_polygon, resolution)\n",
    "filters = [(\"h3_7\", \"in\", europe_h3)]\n",
    "\n",
    "data_area = geopandas.read_parquet(local_folder, filters=filters)[[\"species\", \"family\", \"year\", \"coraltempSST\", \"h3_7\"]]\n",
    "\n",
    "data_europe = data_area[data_area['family'] == \"Laridae\"]\n",
    "data_europe"
   ]
  },
  {
   "cell_type": "markdown",
   "metadata": {},
   "source": [
    "The first part (selecting the data for a certain region) we could have done using the spatial capabilities of `geopandas`, but H3 will enable us to aggregate the data very easily now.\n",
    "\n",
    "Let's first go to a coarser resolution, 6, get the average of temperatures in each site and see how much it deviates from the average of all records."
   ]
  },
  {
   "cell_type": "code",
   "execution_count": null,
   "metadata": {},
   "outputs": [],
   "source": [
    "Laridae_average = data_europe['coraltempSST'].mean()\n",
    "\n",
    "data_europe['h3_6'] = data_europe['h3_7'].apply(lambda h3_index: h3.h3_to_parent(h3_index, 6))\n",
    "\n",
    "# Step 3: Group by the coarser H3 grid and calculate the temperature difference\n",
    "Laridae_diff = data_europe.groupby('h3_6').agg(\n",
    "    deep_dif=('coraltempSST', lambda x: x.mean() - Laridae_average)\n",
    ").reset_index()\n",
    "\n",
    "print(Laridae_diff.head())"
   ]
  },
  {
   "cell_type": "markdown",
   "metadata": {},
   "source": [
    "We can then plot the result. We will convert the H3 codes to a hexagonal grid for better plotting:"
   ]
  },
  {
   "cell_type": "code",
   "execution_count": 45,
   "metadata": {},
   "outputs": [],
   "source": [
    "import shapely.geometry as geom\n",
    "\n",
    "def h3_to_polygon(h3_index):\n",
    "    boundary = h3.h3_to_geo_boundary(h3_index, geo_json=True)\n",
    "    return geom.Polygon(boundary)\n",
    "\n",
    "Laridae_diff['geometry'] = Laridae_diff['h3_6'].apply(h3_to_polygon)\n",
    "\n",
    "gdf_Laridae_diff = geopandas.GeoDataFrame(Laridae_diff, geometry='geometry', crs=\"EPSG:4326\")\n"
   ]
  },
  {
   "cell_type": "code",
   "execution_count": null,
   "metadata": {},
   "outputs": [],
   "source": [
    "import matplotlib.pyplot as plt\n",
    "import cartopy.crs as ccrs\n",
    "import cartopy.feature as cfeature\n",
    "\n",
    "fig, ax = plt.subplots(figsize=(10, 8), subplot_kw={'projection': ccrs.PlateCarree()})\n",
    "\n",
    "ax.add_feature(cfeature.LAND, facecolor='gray')\n",
    "\n",
    "gdf_Laridae_diff.plot(ax=ax, column='deep_dif', cmap='PuOr', legend=True, edgecolor='black', alpha=0.7)\n",
    " \n",
    "ax.set_title(\"Laridae Deep Temperature Differences\", fontsize=14)\n",
    "\n",
    "plt.show()\n"
   ]
  }
 ],
 "metadata": {
  "kernelspec": {
   "display_name": "Python 3",
   "language": "python",
   "name": "python3"
  },
  "language_info": {
   "codemirror_mode": {
    "name": "ipython",
    "version": 3
   },
   "file_extension": ".py",
   "mimetype": "text/x-python",
   "name": "python",
   "nbconvert_exporter": "python",
   "pygments_lexer": "ipython3",
   "version": "3.11.3"
  }
 },
 "nbformat": 4,
 "nbformat_minor": 2
}
